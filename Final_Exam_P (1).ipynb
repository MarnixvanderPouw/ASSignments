{
 "cells": [
  {
   "cell_type": "markdown",
   "metadata": {},
   "source": [
    "Before you turn this problem in, make sure everything runs as expected. First, **restart the kernel** (in the menubar, select Kernel$\\rightarrow$Restart) and then **run all cells** (in the menubar, select Cell$\\rightarrow$Run All).\n",
    "\n",
    "Make sure you fill in any place that says `YOUR CODE HERE` or \"YOUR ANSWER HERE\", as well as your name and collaborators below:"
   ]
  },
  {
   "cell_type": "code",
   "execution_count": 1,
   "metadata": {},
   "outputs": [],
   "source": [
    "NAME = \"Marnix van der Pouw, 2013687\"\n",
    "COLLABORATORS = \"Vera van den Broek, 2014668\""
   ]
  },
  {
   "cell_type": "markdown",
   "metadata": {},
   "source": [
    "---"
   ]
  },
  {
   "cell_type": "markdown",
   "metadata": {},
   "source": [
    "Fill in the cell above to provide us with your name and student number, like\n",
    "\n",
    "NAME = \"Adam Smith, #student number#\"\n",
    "\n",
    "where you replace \"#student number#\" with your ... (very good!)\n",
    "\n",
    "and if you are doing this with someone else (not more than one other person):\n",
    "\n",
    "COLLABORATORS = \"Karl Marx, #student number#\""
   ]
  },
  {
   "cell_type": "markdown",
   "metadata": {
    "deletable": false,
    "editable": false,
    "nbgrader": {
     "checksum": "a7ae5c69becf064d614c6c38935eca51",
     "grade": false,
     "grade_id": "cell-895e9a7b94992ec9",
     "locked": true,
     "schema_version": 1,
     "solution": false
    }
   },
   "source": [
    "# exam June 7th, 2018\n"
   ]
  },
  {
   "cell_type": "markdown",
   "metadata": {
    "deletable": false,
    "editable": false,
    "nbgrader": {
     "checksum": "bc48d165f54aa364aa34509649fcdef5",
     "grade": false,
     "grade_id": "cell-540987818af25557",
     "locked": true,
     "schema_version": 1,
     "solution": false
    }
   },
   "source": [
    "\n",
    "In the first cell of the notebook, give us your name and student number in the way indicated above. If you do this notebook with --at max.-- one other student, give her/his name and student number as well under \"COLLABORATORS\".\n",
    "\n",
    "Fill in the notebook (see below for code cells and text cells that you need to fill in).\n",
    "\n",
    "If you look at the menus above (File, Edit, View etc.), there is one called \"Cell\". If you click on this, you can change the \"Cell Type\". Choose \"Code\" when you are typing python or R code. Choose \"Markdown\" when you are typing, well, markdown.\n",
    "\n",
    "When you finish the notebook, make sure that you **save it with the output of your code included**. \n",
    "\n",
    "Then put it on github, e.g. by dragging it onto github (see instructions below). \n",
    "\n",
    "Finally, add a link to your README file with the name of this exam: \"Exam June 7, 2018\".\n",
    "\n"
   ]
  },
  {
   "cell_type": "markdown",
   "metadata": {
    "deletable": false,
    "editable": false,
    "nbgrader": {
     "checksum": "6fad9bed312da1b0097e9c520b18e3fb",
     "grade": false,
     "grade_id": "cell-e1cf88cb799f1f43",
     "locked": true,
     "schema_version": 1,
     "solution": false
    }
   },
   "source": [
    "## price effects of mergers\n",
    "\n",
    "We consider a merger in this notebook. \n",
    "\n",
    "First we calculate the equilibrium with three firms, denoted by 1, 2 and 3. Then firms 2 and 3 merge so that we are left with 2 firms; denoted by 1 and 2.\n",
    "\n",
    "We calculate the effects of the merger on the equilibrium price.\n",
    "\n",
    "We start by importing the usual libraries."
   ]
  },
  {
   "cell_type": "code",
   "execution_count": 2,
   "metadata": {
    "deletable": false,
    "editable": false,
    "nbgrader": {
     "checksum": "7bd770ef54db47c3b6c8d0e31f6baef6",
     "grade": false,
     "grade_id": "cell-b895769bf40e183a",
     "locked": true,
     "schema_version": 1,
     "solution": false
    }
   },
   "outputs": [],
   "source": [
    "import matplotlib.pyplot as plt\n",
    "import pandas as pd\n",
    "import numpy as np\n",
    "from scipy import optimize\n",
    "%matplotlib inline"
   ]
  },
  {
   "cell_type": "markdown",
   "metadata": {},
   "source": [
    "The following code helps to calculate the equilibrium for the case with 3 firms. Note that you have seen similar code during the tutorials to calculate the equilibrium with 2 firms.\n",
    "\n",
    "We assume that before the merger each firm has constant marginal costs equal to 0.3. We assume a simple linear (inverse) demand curve of the form $p=1-Q$ where $p$ denotes price and $Q$ total output on the market. Total output equals the sum of each firm's output: $Q= q_1 + q_2+q_3$."
   ]
  },
  {
   "cell_type": "code",
   "execution_count": 3,
   "metadata": {
    "deletable": false,
    "editable": false,
    "nbgrader": {
     "checksum": "3e30f7ac9d9155ef089b8ca56a0c0436",
     "grade": false,
     "grade_id": "cell-f97a25efed556fd2",
     "locked": true,
     "schema_version": 1,
     "solution": false
    }
   },
   "outputs": [],
   "source": [
    "c0 = 0.3\n",
    "vector_c = [c0]*3\n",
    "\n",
    "def p(Q):\n",
    "    return 1 - Q\n",
    "\n",
    "def costs(q,c):\n",
    "    return c*q\n",
    "\n",
    "def profits(q,Q_other,c):\n",
    "    return p(q+Q_other)*q-costs(q,c)\n",
    "\n",
    "def reaction(Q_other,c):\n",
    "    q1 =  optimize.fminbound(lambda x: -profits(x,Q_other,c),0,1,full_output=1)\n",
    "    return q1[0]\n",
    "\n",
    "def fixed_point_three_firms(vector_q,vector_c):\n",
    "    return [vector_q[0]-reaction(vector_q[1]+vector_q[2],vector_c[0]),\n",
    "            vector_q[1]-reaction(vector_q[0]+vector_q[2],vector_c[1]),\n",
    "            vector_q[2]-reaction(vector_q[0]+vector_q[1],vector_c[2])]\n",
    "\n"
   ]
  },
  {
   "cell_type": "markdown",
   "metadata": {
    "deletable": false,
    "editable": false,
    "nbgrader": {
     "checksum": "f6ea3b2416aca7293a5450c45865f242",
     "grade": false,
     "grade_id": "cell-83284c4090d6de8c",
     "locked": true,
     "schema_version": 1,
     "solution": false
    }
   },
   "source": [
    "#### a) [0.5 points] Show that total equilibrium output equals  0.525. Derive the equilibrium price and Herfindahl index; denote these by `P0` and `H0` resp."
   ]
  },
  {
   "cell_type": "code",
   "execution_count": 4,
   "metadata": {
    "deletable": false,
    "nbgrader": {
     "checksum": "a06d73c35395adb00480733b458cb4a5",
     "grade": true,
     "grade_id": "cell-3b8ee172d9950128",
     "locked": false,
     "points": 0.5,
     "schema_version": 1,
     "solution": true
    }
   },
   "outputs": [
    {
     "name": "stdout",
     "output_type": "stream",
     "text": [
      "0.525\n",
      "0.475\n",
      "0.3333333333333333\n"
     ]
    }
   ],
   "source": [
    "initial_guess = [0,0,0]\n",
    "\n",
    "Qsum = optimize.fsolve(lambda q: fixed_point_three_firms(q,[0.3,0.3,0.3]), initial_guess)\n",
    "\n",
    "Q0 = np.sum(Qsum)\n",
    "print(Q0)\n",
    "\n",
    "P0 = 1 - Q0\n",
    "print(P0)\n",
    "\n",
    "q1 = Qsum[0]\n",
    "q2 = Qsum[1]\n",
    "q3 = Qsum[2]\n",
    "\n",
    "H0 = (q1/Q0)**2 + (q2/Q0)**2 + (q3/Q0)**2\n",
    "\n",
    "print(H0)\n"
   ]
  },
  {
   "cell_type": "markdown",
   "metadata": {
    "deletable": false,
    "editable": false,
    "nbgrader": {
     "checksum": "87b3b3e0e2d645c280e279312e489dc4",
     "grade": false,
     "grade_id": "cell-4b33762aa4a601fe",
     "locked": true,
     "schema_version": 1,
     "solution": false
    }
   },
   "source": [
    "#### b) [0.5 point] Define a function `fixed_point_two_firms` with the same structure as the function `fixed_point_three_firms` above, except that it derives the equilibrium output levels for a duopoly (two firms). Test this function by showing that each of the two firms produces 0.3333 in case both firms have zero costs."
   ]
  },
  {
   "cell_type": "code",
   "execution_count": 5,
   "metadata": {
    "deletable": false,
    "nbgrader": {
     "checksum": "024a1519155d681b57c85292df535a65",
     "grade": true,
     "grade_id": "cell-5ee215676b91f504",
     "locked": false,
     "points": 0.5,
     "schema_version": 1,
     "solution": true
    }
   },
   "outputs": [
    {
     "data": {
      "text/plain": [
       "array([0.33333333, 0.33333333])"
      ]
     },
     "execution_count": 5,
     "metadata": {},
     "output_type": "execute_result"
    }
   ],
   "source": [
    "def fixed_point_two_firms(q,c):\n",
    "    return [q[0]-reaction(q[1],c[0]),q[1]-reaction(q[0],c[1])]\n",
    "\n",
    "initial_guess = [0,0]\n",
    "\n",
    "optimize.fsolve(lambda q: fixed_point_two_firms(q,[0,0]), initial_guess)"
   ]
  },
  {
   "cell_type": "markdown",
   "metadata": {
    "deletable": false,
    "editable": false,
    "nbgrader": {
     "checksum": "5291fc8716e367572fde17ebe5844d2f",
     "grade": false,
     "grade_id": "cell-c2fada02efd7b197",
     "locked": true,
     "schema_version": 1,
     "solution": false
    }
   },
   "source": [
    "The Dutch competition authority, ACM, is asked to evaluate the effects of a merger between firms 2 and 3. Firms 2 and 3 claim that by merging they can reduce their constant marginal costs. But it is not clear by how much they will reduce their costs.\n",
    "\n",
    "The ACM assumes that the marginal cost level of the merged firm is uniformly distributed between 0 and the current marginal cost level `c0`. The merger will not affect the marginal cost level of firm 1 who does not merge. Firm 1's cost level remains `c0`.\n",
    "\n",
    "The next cell generates a vector of cost levels for the merged firm, denoted `c_after_merger`. Evaluate \"c_after_merger\" in a separate cell if you do not understand the command that defines it.\n",
    "\n",
    "Then it calculates the equilibrium output levels for (the non-merging) firm 1 and (the merged) firm 2.\n",
    "\n",
    "Note that you need to specify `initial_guess`.\n"
   ]
  },
  {
   "cell_type": "code",
   "execution_count": 6,
   "metadata": {
    "deletable": false,
    "editable": false,
    "nbgrader": {
     "checksum": "11299317cd53e31de9900700999b0324",
     "grade": false,
     "grade_id": "cell-ce91ab3e3225c57d",
     "locked": true,
     "schema_version": 1,
     "solution": false
    }
   },
   "outputs": [],
   "source": [
    "c_after_merger = np.random.uniform(0,c0,size = 100)\n",
    "\n",
    "q1_after_merger = [optimize.fsolve(lambda q: fixed_point_two_firms(q,[c0,c]), initial_guess)[0] for c in c_after_merger]\n",
    "q2_after_merger = [optimize.fsolve(lambda q: fixed_point_two_firms(q,[c0,c]), initial_guess)[1] for c in c_after_merger]\n",
    "\n",
    "\n"
   ]
  },
  {
   "cell_type": "markdown",
   "metadata": {
    "deletable": false,
    "editable": false,
    "nbgrader": {
     "checksum": "2b518306d6ff20ee42d0bc3085333095",
     "grade": false,
     "grade_id": "cell-0acc18b4f07a09f4",
     "locked": true,
     "schema_version": 1,
     "solution": false
    }
   },
   "source": [
    "#### c) [0.5 points] Create a dataframe called `df_after_merger` with three columns: `c_merged_firm`, `output_non_merging_firm`, `output_merged_firm` containing resp. the cost level of the merged firm, the output level of firm 1 and the output level of firm 2."
   ]
  },
  {
   "cell_type": "code",
   "execution_count": 7,
   "metadata": {
    "deletable": false,
    "nbgrader": {
     "checksum": "f4fc6a3bdef91fa3f656ccd3290c9f54",
     "grade": true,
     "grade_id": "cell-f3eacda828774f2d",
     "locked": false,
     "points": 0.5,
     "schema_version": 1,
     "solution": true
    }
   },
   "outputs": [
    {
     "data": {
      "text/plain": [
       "<bound method NDFrame.head of     c_merged_firm  output_merged_firm  output_non_merging_firm\n",
       "0        0.223198            0.284535                 0.207733\n",
       "1        0.003915            0.430724                 0.134638\n",
       "2        0.077803            0.381465                 0.159268\n",
       "3        0.141147            0.339235                 0.180382\n",
       "4        0.077755            0.381497                 0.159252\n",
       "5        0.054205            0.397197                 0.151402\n",
       "6        0.029323            0.413785                 0.143108\n",
       "7        0.279135            0.247243                 0.226378\n",
       "8        0.090203            0.373198                 0.163401\n",
       "9        0.216208            0.289194                 0.205403\n",
       "10       0.289913            0.240058                 0.229971\n",
       "11       0.142155            0.338563                 0.180718\n",
       "12       0.233038            0.277974                 0.211013\n",
       "13       0.241305            0.272463                 0.213768\n",
       "14       0.280882            0.246079                 0.226961\n",
       "15       0.211388            0.292408                 0.203796\n",
       "16       0.019333            0.420445                 0.139778\n",
       "17       0.114327            0.357115                 0.171442\n",
       "18       0.122335            0.351777                 0.174112\n",
       "19       0.184707            0.310195                 0.194902\n",
       "20       0.238087            0.274608                 0.212696\n",
       "21       0.099941            0.366706                 0.166647\n",
       "22       0.157717            0.328189                 0.185906\n",
       "23       0.121959            0.352027                 0.173986\n",
       "24       0.134449            0.343701                 0.178150\n",
       "25       0.023869            0.417421                 0.141290\n",
       "26       0.129685            0.346877                 0.176562\n",
       "27       0.000627            0.432916                 0.133542\n",
       "28       0.108273            0.361151                 0.169424\n",
       "29       0.293228            0.237848                 0.231076\n",
       "..            ...                 ...                      ...\n",
       "70       0.130526            0.346316                 0.176842\n",
       "71       0.230205            0.279863                 0.210068\n",
       "72       0.118086            0.354609                 0.172695\n",
       "73       0.133789            0.344140                 0.177930\n",
       "74       0.082547            0.378302                 0.160849\n",
       "75       0.070776            0.386149                 0.156925\n",
       "76       0.197849            0.301434                 0.199283\n",
       "77       0.003388            0.431074                 0.134463\n",
       "78       0.243970            0.270686                 0.214657\n",
       "79       0.094377            0.370415                 0.164792\n",
       "80       0.058188            0.394541                 0.152729\n",
       "81       0.078357            0.381095                 0.159452\n",
       "82       0.284013            0.243991                 0.228004\n",
       "83       0.092386            0.371742                 0.164129\n",
       "84       0.107624            0.361584                 0.169208\n",
       "85       0.185116            0.309923                 0.195039\n",
       "86       0.089055            0.373964                 0.163018\n",
       "87       0.272757            0.251496                 0.224252\n",
       "88       0.204566            0.296956                 0.201522\n",
       "89       0.171637            0.318909                 0.190546\n",
       "90       0.190599            0.306267                 0.196866\n",
       "91       0.140712            0.339526                 0.180237\n",
       "92       0.153520            0.330987                 0.184507\n",
       "93       0.019035            0.420643                 0.139678\n",
       "94       0.268832            0.254112                 0.222944\n",
       "95       0.083880            0.377413                 0.161293\n",
       "96       0.235980            0.276013                 0.211993\n",
       "97       0.221305            0.285797                 0.207102\n",
       "98       0.001319            0.432454                 0.133773\n",
       "99       0.269494            0.253671                 0.223165\n",
       "\n",
       "[100 rows x 3 columns]>"
      ]
     },
     "execution_count": 7,
     "metadata": {},
     "output_type": "execute_result"
    }
   ],
   "source": [
    "initial_guess = [0,0]\n",
    "\n",
    "d = {'c_merged_firm': c_after_merger, 'output_non_merging_firm': q1_after_merger, 'output_merged_firm': q2_after_merger}\n",
    "\n",
    "df_after_merger = pd.DataFrame(data=d)\n",
    "df_after_merger.head"
   ]
  },
  {
   "cell_type": "markdown",
   "metadata": {
    "deletable": false,
    "editable": false,
    "nbgrader": {
     "checksum": "a5bf4171960844da9c57375d83b6eedf",
     "grade": false,
     "grade_id": "cell-7ad058be42e19df8",
     "locked": true,
     "schema_version": 1,
     "solution": false
    }
   },
   "source": [
    "#### d) [0.5 points] Add three columns to the dataframe with resp. total equilibrium output on the market, `Q`, equilibrium price, `P` and the Herfindahl index, `H`."
   ]
  },
  {
   "cell_type": "code",
   "execution_count": 8,
   "metadata": {
    "deletable": false,
    "nbgrader": {
     "checksum": "ab6179623b39a6ae634abea45326e4ab",
     "grade": true,
     "grade_id": "cell-9c39b11747803ca1",
     "locked": false,
     "points": 0.5,
     "schema_version": 1,
     "solution": true
    }
   },
   "outputs": [
    {
     "name": "stdout",
     "output_type": "stream",
     "text": [
      "    c_merged_firm  output_merged_firm  output_non_merging_firm         Q  \\\n",
      "0        0.223198            0.284535                 0.207733  0.492267   \n",
      "1        0.003915            0.430724                 0.134638  0.565362   \n",
      "2        0.077803            0.381465                 0.159268  0.540732   \n",
      "3        0.141147            0.339235                 0.180382  0.519618   \n",
      "4        0.077755            0.381497                 0.159252  0.540748   \n",
      "5        0.054205            0.397197                 0.151402  0.548598   \n",
      "6        0.029323            0.413785                 0.143108  0.556892   \n",
      "7        0.279135            0.247243                 0.226378  0.473622   \n",
      "8        0.090203            0.373198                 0.163401  0.536599   \n",
      "9        0.216208            0.289194                 0.205403  0.494597   \n",
      "10       0.289913            0.240058                 0.229971  0.470029   \n",
      "11       0.142155            0.338563                 0.180718  0.519282   \n",
      "12       0.233038            0.277974                 0.211013  0.488987   \n",
      "13       0.241305            0.272463                 0.213768  0.486232   \n",
      "14       0.280882            0.246079                 0.226961  0.473039   \n",
      "15       0.211388            0.292408                 0.203796  0.496204   \n",
      "16       0.019333            0.420445                 0.139778  0.560222   \n",
      "17       0.114327            0.357115                 0.171442  0.528558   \n",
      "18       0.122335            0.351777                 0.174112  0.525888   \n",
      "19       0.184707            0.310195                 0.194902  0.505098   \n",
      "20       0.238087            0.274608                 0.212696  0.487304   \n",
      "21       0.099941            0.366706                 0.166647  0.533353   \n",
      "22       0.157717            0.328189                 0.185906  0.514094   \n",
      "23       0.121959            0.352027                 0.173986  0.526014   \n",
      "24       0.134449            0.343701                 0.178150  0.521850   \n",
      "25       0.023869            0.417421                 0.141290  0.558710   \n",
      "26       0.129685            0.346877                 0.176562  0.523438   \n",
      "27       0.000627            0.432916                 0.133542  0.566458   \n",
      "28       0.108273            0.361151                 0.169424  0.530576   \n",
      "29       0.293228            0.237848                 0.231076  0.468924   \n",
      "..            ...                 ...                      ...       ...   \n",
      "70       0.130526            0.346316                 0.176842  0.523158   \n",
      "71       0.230205            0.279863                 0.210068  0.489932   \n",
      "72       0.118086            0.354609                 0.172695  0.527305   \n",
      "73       0.133789            0.344140                 0.177930  0.522070   \n",
      "74       0.082547            0.378302                 0.160849  0.539151   \n",
      "75       0.070776            0.386149                 0.156925  0.543075   \n",
      "76       0.197849            0.301434                 0.199283  0.500717   \n",
      "77       0.003388            0.431074                 0.134463  0.565537   \n",
      "78       0.243970            0.270686                 0.214657  0.485343   \n",
      "79       0.094377            0.370415                 0.164792  0.535208   \n",
      "80       0.058188            0.394541                 0.152729  0.547271   \n",
      "81       0.078357            0.381095                 0.159452  0.540548   \n",
      "82       0.284013            0.243991                 0.228004  0.471996   \n",
      "83       0.092386            0.371742                 0.164129  0.535871   \n",
      "84       0.107624            0.361584                 0.169208  0.530792   \n",
      "85       0.185116            0.309923                 0.195039  0.504961   \n",
      "86       0.089055            0.373964                 0.163018  0.536982   \n",
      "87       0.272757            0.251496                 0.224252  0.475748   \n",
      "88       0.204566            0.296956                 0.201522  0.498478   \n",
      "89       0.171637            0.318909                 0.190546  0.509454   \n",
      "90       0.190599            0.306267                 0.196866  0.503134   \n",
      "91       0.140712            0.339526                 0.180237  0.519763   \n",
      "92       0.153520            0.330987                 0.184507  0.515493   \n",
      "93       0.019035            0.420643                 0.139678  0.560322   \n",
      "94       0.268832            0.254112                 0.222944  0.477056   \n",
      "95       0.083880            0.377413                 0.161293  0.538707   \n",
      "96       0.235980            0.276013                 0.211993  0.488007   \n",
      "97       0.221305            0.285797                 0.207102  0.492898   \n",
      "98       0.001319            0.432454                 0.133773  0.566227   \n",
      "99       0.269494            0.253671                 0.223165  0.476835   \n",
      "\n",
      "           P         H  \n",
      "0   0.507733  0.512171  \n",
      "1   0.434638  0.637136  \n",
      "2   0.459268  0.584427  \n",
      "3   0.480382  0.546730  \n",
      "4   0.459252  0.584458  \n",
      "5   0.451402  0.600371  \n",
      "6   0.443108  0.618122  \n",
      "7   0.526378  0.500970  \n",
      "8   0.463401  0.576431  \n",
      "9   0.505403  0.514351  \n",
      "10  0.529971  0.500230  \n",
      "11  0.480718  0.546198  \n",
      "12  0.511013  0.509376  \n",
      "13  0.513768  0.507286  \n",
      "14  0.526961  0.500817  \n",
      "15  0.503796  0.515945  \n",
      "16  0.439778  0.625497  \n",
      "17  0.471442  0.561699  \n",
      "18  0.474112  0.557067  \n",
      "19  0.494902  0.526051  \n",
      "20  0.512696  0.508071  \n",
      "21  0.466647  0.570349  \n",
      "22  0.485906  0.538299  \n",
      "23  0.473986  0.557282  \n",
      "24  0.478150  0.550320  \n",
      "25  0.441290  0.622131  \n",
      "26  0.476562  0.552935  \n",
      "27  0.433542  0.639657  \n",
      "28  0.469424  0.565289  \n",
      "29  0.531076  0.500104  \n",
      "..       ...       ...  \n",
      "70  0.476842  0.552470  \n",
      "71  0.510068  0.510147  \n",
      "72  0.472695  0.559509  \n",
      "73  0.477930  0.550679  \n",
      "74  0.460849  0.581335  \n",
      "75  0.456925  0.589078  \n",
      "76  0.499283  0.520810  \n",
      "77  0.434463  0.637538  \n",
      "78  0.514657  0.506664  \n",
      "79  0.464792  0.573802  \n",
      "80  0.452729  0.597616  \n",
      "81  0.459452  0.584064  \n",
      "82  0.528004  0.500574  \n",
      "83  0.464129  0.575052  \n",
      "84  0.469208  0.565678  \n",
      "85  0.495039  0.525881  \n",
      "86  0.463018  0.577160  \n",
      "87  0.524252  0.501640  \n",
      "88  0.501522  0.518327  \n",
      "89  0.490546  0.531742  \n",
      "90  0.496866  0.523640  \n",
      "91  0.480237  0.546960  \n",
      "92  0.484507  0.540372  \n",
      "93  0.439678  0.625719  \n",
      "94  0.522944  0.502134  \n",
      "95  0.461293  0.580474  \n",
      "96  0.511993  0.508605  \n",
      "97  0.507102  0.512745  \n",
      "98  0.433773  0.639125  \n",
      "99  0.523165  0.502046  \n",
      "\n",
      "[100 rows x 6 columns]\n"
     ]
    }
   ],
   "source": [
    "df_after_merger['Q']= df_after_merger['output_non_merging_firm']+df_after_merger['output_merged_firm']\n",
    "df_after_merger['P']= 1-df_after_merger['Q']\n",
    "df_after_merger['H']= (df_after_merger['output_merged_firm']/df_after_merger['Q'])**2 + (df_after_merger['output_non_merging_firm']/df_after_merger['Q'])**2\n",
    "\n",
    "print(df_after_merger)\n",
    "\n"
   ]
  },
  {
   "cell_type": "markdown",
   "metadata": {},
   "source": [
    "#### e) [0.5 points] Make a histogram of the equilibrium price `P` after the merger. Also indicate in the histogram the equilibrium price before the merger `P0`. Label the horizontal axis with $P$.\n",
    "\n",
    "[hint: you may want to use matplotlib's `hist`, `vlines` and `legend` to make this graph (e.g use google to find these functions); but feel free to use something else]"
   ]
  },
  {
   "cell_type": "code",
   "execution_count": 9,
   "metadata": {
    "deletable": false,
    "nbgrader": {
     "checksum": "b103cd98545261b20f937f4b9db67f68",
     "grade": true,
     "grade_id": "cell-f9193bf8e71f1a9a",
     "locked": false,
     "points": 0.5,
     "schema_version": 1,
     "solution": true
    }
   },
   "outputs": [
    {
     "data": {
      "image/png": "[encoded data removed]",
      "text/plain": [
       "<matplotlib.figure.Figure at 0x23c430dfd30>"
      ]
     },
     "metadata": {},
     "output_type": "display_data"
    }
   ],
   "source": [
    "Equilibrium_price = df_after_merger['P']\n",
    "plt.hist(Equilibrium_price, facecolor='pink', alpha=8, edgecolor='black')\n",
    "plt.xlabel('$P$')\n",
    "plt.axvline(0.475, color='k', linestyle='dashed', linewidth=1)\n",
    "\n",
    "plt.show()"
   ]
  },
  {
   "cell_type": "markdown",
   "metadata": {},
   "source": [
    "#### f) [0.5 points] Explain why sometimes the equilibrium price after the merger exceeds the equilibrium price before the merger and sometimes it is lower than the pre-merger price. [hint: there is a trade off between two effects, depending on which effect dominates, equilibrium price increases or decreases after the merger]"
   ]
  },
  {
   "cell_type": "markdown",
   "metadata": {
    "deletable": false,
    "nbgrader": {
     "checksum": "dd9fc721b7cf7f66587e93cbfb758034",
     "grade": true,
     "grade_id": "cell-7a1f367cd2854156",
     "locked": false,
     "points": 0.5,
     "schema_version": 1,
     "solution": true
    }
   },
   "source": [
    "<span style=\"color:pink\">The equilibrium price is affected by Q, which is affected by the q's of both firms, which are affected by the costs of goods sold. These costs are randomly, uniformly, distributed as shown in the paragraph above question c). As these costs may differ, so may the q's of both firms, thus resulting in different price levels. As we've established, P is affected by the costs (cost effect) and the output (Q). If the cost effect dominates, high costs result in lower q's, resulting in higher prices. If the output rises, this will result in lower prices.</span>"
   ]
  },
  {
   "cell_type": "markdown",
   "metadata": {
    "deletable": false,
    "editable": false,
    "nbgrader": {
     "checksum": "e1e41dbf14c605bf91cdc78f70eada99",
     "grade": false,
     "grade_id": "cell-06ed6044f8938a45",
     "locked": true,
     "schema_version": 1,
     "solution": false
    }
   },
   "source": [
    "#### g) [0.5 points] Make a graph with the Herfindahl index on the horizontal axis and the equilibrium price on the vertical axis. This is straightforward for $(H,P)$ after the merger as both values are in the dataframe. Add in another color, the pre-merger combination `(H0,P0)` that we calculated above."
   ]
  },
  {
   "cell_type": "code",
   "execution_count": 10,
   "metadata": {
    "deletable": false,
    "nbgrader": {
     "checksum": "51cfaacbaf533e85d9794bc74712afd5",
     "grade": true,
     "grade_id": "cell-d647464d04870b73",
     "locked": false,
     "points": 0.5,
     "schema_version": 1,
     "solution": true
    }
   },
   "outputs": [
    {
     "data": {
      "image/png": "[encoded data removed]",
      "text/plain": [
       "<matplotlib.figure.Figure at 0x23c4302e780>"
      ]
     },
     "metadata": {},
     "output_type": "display_data"
    }
   ],
   "source": [
    "plt.scatter(df_after_merger['H'],df_after_merger['P'], color='pink')\n",
    "plt.axvline(0.475, color='k', linestyle='dashed', linewidth=1)\n",
    "plt.axhline((1/3), color='k', linestyle='dashed', linewidth=1)\n",
    "plt.xlabel('$H$')\n",
    "plt.ylabel('$P$')\n",
    "plt.show()"
   ]
  },
  {
   "cell_type": "markdown",
   "metadata": {
    "deletable": false,
    "editable": false,
    "nbgrader": {
     "checksum": "11b6609131b1c25886f2c6cafe0f7a59",
     "grade": false,
     "grade_id": "cell-5c5e5776a7c135a2",
     "locked": true,
     "schema_version": 1,
     "solution": false
    }
   },
   "source": [
    "#### h) [0.5 points] Use the graph under g) to discuss the relation between the Herfindahl index and the equilibrium price. To illustrate, some people think that lower values of the Herfindahl index are associated with more competitive outcome. Would you agree with this?"
   ]
  },
  {
   "cell_type": "markdown",
   "metadata": {
    "collapsed": true,
    "deletable": false,
    "nbgrader": {
     "checksum": "3d396887dde3b00420c623b9f4ea8ed2",
     "grade": true,
     "grade_id": "cell-cbd89d483b23a953",
     "locked": false,
     "points": 0.5,
     "schema_version": 1,
     "solution": true
    }
   },
   "source": [
    "<span style=\"color:pink\">The higher the Herfindahl index, the lower the equilibrium price. One may argue that low prices illustrate high competitiveness, resulting in the conclusion that we do not agree with these people.</span>"
   ]
  },
  {
   "cell_type": "markdown",
   "metadata": {},
   "source": [
    "## Github\n",
    "\n",
    "After you have finished, we need to upload this notebook on github. Make sure that you upload the file on the github page of each collaborator."
   ]
  },
  {
   "cell_type": "markdown",
   "metadata": {},
   "source": [
    "Instructions on how to upload this on github can be found [on this page](http://janboone.github.io/programming-for-economists/github.html). This page has two screencasts: one shows how to drag the notebook onto your github page, the other shows how you can use the command line to upload your notebook.\n"
   ]
  },
  {
   "cell_type": "markdown",
   "metadata": {},
   "source": [
    "Remember to update the README file in your repository to include a link to this notebook on github.\n",
    "\n",
    "\n",
    "The links that you should post start with “github.com/” and are NOT of the form “http://localhost”. Make sure you test your links after uploading."
   ]
  },
  {
   "cell_type": "code",
   "execution_count": null,
   "metadata": {},
   "outputs": [],
   "source": []
  }
 ],
 "metadata": {
  "anaconda-cloud": {},
  "kernelspec": {
   "display_name": "Python 3",
   "language": "python",
   "name": "python3"
  },
  "language_info": {
   "codemirror_mode": {
    "name": "ipython",
    "version": 3
   },
   "file_extension": ".py",
   "mimetype": "text/x-python",
   "name": "python",
   "nbconvert_exporter": "python",
   "pygments_lexer": "ipython3",
   "version": "3.6.4"
  }
 },
 "nbformat": 4,
 "nbformat_minor": 1
}
